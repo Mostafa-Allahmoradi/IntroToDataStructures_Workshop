{
 "cells": [
  {
   "cell_type": "markdown",
   "id": "47a8a8c0",
   "metadata": {},
   "source": [
    "### Central Tendency\n",
    "\n",
    "### 🧠 Challenge #3:\n",
    "\n",
    "1. Get access to a data set associated with heart rate conditions\n",
    "2. Understand the collected data\n"
   ]
  },
  {
   "cell_type": "code",
   "execution_count": 7,
   "id": "5f5c5f9b",
   "metadata": {},
   "outputs": [
    {
     "data": {
      "application/vnd.microsoft.datawrangler.viewer.v0+json": {
       "columns": [
        {
         "name": "index",
         "rawType": "int64",
         "type": "integer"
        },
        {
         "name": "No",
         "rawType": "int64",
         "type": "integer"
        },
        {
         "name": "Participant ID",
         "rawType": "object",
         "type": "string"
        },
        {
         "name": "Sex",
         "rawType": "object",
         "type": "string"
        },
        {
         "name": "Stage",
         "rawType": "int64",
         "type": "integer"
        },
        {
         "name": "Age",
         "rawType": "int64",
         "type": "integer"
        },
        {
         "name": "Height (sm)",
         "rawType": "int64",
         "type": "integer"
        },
        {
         "name": "Weight (kg)",
         "rawType": "int64",
         "type": "integer"
        },
        {
         "name": "R-R min (мs)",
         "rawType": "int64",
         "type": "integer"
        },
        {
         "name": "R-R max (мs)",
         "rawType": "int64",
         "type": "integer"
        },
        {
         "name": "RRNN (мs)",
         "rawType": "int64",
         "type": "integer"
        },
        {
         "name": "SDNN (мs)",
         "rawType": "int64",
         "type": "integer"
        },
        {
         "name": "RMSSD (мs)",
         "rawType": "int64",
         "type": "integer"
        },
        {
         "name": "pNN50 (%)",
         "rawType": "float64",
         "type": "float"
        },
        {
         "name": "CV (%)",
         "rawType": "float64",
         "type": "float"
        },
        {
         "name": "W (мс)",
         "rawType": "int64",
         "type": "integer"
        },
        {
         "name": "WN1 (мs)",
         "rawType": "int64",
         "type": "integer"
        },
        {
         "name": "WN5 (мs)",
         "rawType": "int64",
         "type": "integer"
        },
        {
         "name": "WAM5 (мs)",
         "rawType": "int64",
         "type": "integer"
        },
        {
         "name": "WAM10 (мs)",
         "rawType": "int64",
         "type": "integer"
        },
        {
         "name": "HRVt.i.",
         "rawType": "float64",
         "type": "float"
        },
        {
         "name": "HR (bpm)",
         "rawType": "float64",
         "type": "float"
        },
        {
         "name": "Mo (c)",
         "rawType": "float64",
         "type": "float"
        },
        {
         "name": "AMo (%)",
         "rawType": "float64",
         "type": "float"
        },
        {
         "name": "MxDMn (с)",
         "rawType": "float64",
         "type": "float"
        },
        {
         "name": "MxRMn",
         "rawType": "float64",
         "type": "float"
        },
        {
         "name": "SI",
         "rawType": "float64",
         "type": "float"
        },
        {
         "name": "N",
         "rawType": "int64",
         "type": "integer"
        },
        {
         "name": "D",
         "rawType": "int64",
         "type": "integer"
        },
        {
         "name": "R-R avg max (мс)",
         "rawType": "int64",
         "type": "integer"
        },
        {
         "name": "R-R avg min (мс)",
         "rawType": "int64",
         "type": "integer"
        },
        {
         "name": "RM max (мс)",
         "rawType": "int64",
         "type": "integer"
        },
        {
         "name": "RM min (мс)",
         "rawType": "int64",
         "type": "integer"
        },
        {
         "name": "Длина записи (с)",
         "rawType": "float64",
         "type": "float"
        },
        {
         "name": "CC1",
         "rawType": "float64",
         "type": "float"
        },
        {
         "name": "CC0 (c)",
         "rawType": "float64",
         "type": "float"
        },
        {
         "name": "TP (мс²)",
         "rawType": "int64",
         "type": "integer"
        },
        {
         "name": "L (Гц)",
         "rawType": "float64",
         "type": "float"
        },
        {
         "name": "TPav (мс²/Гц)",
         "rawType": "int64",
         "type": "integer"
        },
        {
         "name": "HF (мс²)",
         "rawType": "int64",
         "type": "integer"
        },
        {
         "name": "LF (мс²)",
         "rawType": "int64",
         "type": "integer"
        },
        {
         "name": "VLF (мс²)",
         "rawType": "int64",
         "type": "integer"
        },
        {
         "name": "ULF (мс²)",
         "rawType": "int64",
         "type": "integer"
        },
        {
         "name": "HFnorm",
         "rawType": "float64",
         "type": "float"
        },
        {
         "name": "LFnorm",
         "rawType": "float64",
         "type": "float"
        },
        {
         "name": "LF/HF",
         "rawType": "float64",
         "type": "float"
        },
        {
         "name": "%HF",
         "rawType": "float64",
         "type": "float"
        },
        {
         "name": "%LF",
         "rawType": "float64",
         "type": "float"
        },
        {
         "name": "%VLF",
         "rawType": "float64",
         "type": "float"
        },
        {
         "name": "%ULF",
         "rawType": "int64",
         "type": "integer"
        },
        {
         "name": "ell_L (мс)",
         "rawType": "int64",
         "type": "integer"
        },
        {
         "name": "ell_w (мс)",
         "rawType": "int64",
         "type": "integer"
        },
        {
         "name": "L/w",
         "rawType": "float64",
         "type": "float"
        },
        {
         "name": "ell_S (мс²)",
         "rawType": "int64",
         "type": "integer"
        },
        {
         "name": "HFmx (мс²/Гц*1000)",
         "rawType": "float64",
         "type": "float"
        },
        {
         "name": "HFt (с)",
         "rawType": "float64",
         "type": "float"
        },
        {
         "name": "HFav (мс²/Гц)",
         "rawType": "float64",
         "type": "float"
        },
        {
         "name": "LFmx (с)",
         "rawType": "float64",
         "type": "float"
        },
        {
         "name": "LFt (с)",
         "rawType": "float64",
         "type": "float"
        },
        {
         "name": "LFav (мс²/Гц)",
         "rawType": "float64",
         "type": "float"
        },
        {
         "name": "VLFmx (мс²/Гц*1000)",
         "rawType": "float64",
         "type": "float"
        },
        {
         "name": "VLFt (с)",
         "rawType": "float64",
         "type": "float"
        },
        {
         "name": "VLFav (мс²/Гц)",
         "rawType": "float64",
         "type": "float"
        },
        {
         "name": "ULFmx (мс²/Гц*1000)",
         "rawType": "int64",
         "type": "integer"
        },
        {
         "name": "ULFt (с)",
         "rawType": "int64",
         "type": "integer"
        },
        {
         "name": "ULFav (мс²/Гц)",
         "rawType": "object",
         "type": "string"
        },
        {
         "name": "ВР (с)",
         "rawType": "float64",
         "type": "float"
        },
        {
         "name": "ИН",
         "rawType": "float64",
         "type": "float"
        },
        {
         "name": "ПАПР",
         "rawType": "float64",
         "type": "float"
        },
        {
         "name": "ИВР",
         "rawType": "float64",
         "type": "float"
        },
        {
         "name": "ВПР",
         "rawType": "float64",
         "type": "float"
        },
        {
         "name": "Ме (с)",
         "rawType": "float64",
         "type": "float"
        },
        {
         "name": "RR 30 (с)",
         "rawType": "object",
         "type": "string"
        },
        {
         "name": "RR 15 (с)",
         "rawType": "object",
         "type": "string"
        },
        {
         "name": "Коэффициент 30/15",
         "rawType": "object",
         "type": "string"
        },
        {
         "name": "КРС макс.",
         "rawType": "float64",
         "type": "float"
        },
        {
         "name": "КРС мин.",
         "rawType": "float64",
         "type": "float"
        },
        {
         "name": "КРС средн.",
         "rawType": "float64",
         "type": "float"
        },
        {
         "name": "КРС больше порога (%)",
         "rawType": "int64",
         "type": "integer"
        },
        {
         "name": "TINN (мс)",
         "rawType": "int64",
         "type": "integer"
        },
        {
         "name": "ИН2/ИН1",
         "rawType": "object",
         "type": "string"
        },
        {
         "name": "ПАРС",
         "rawType": "int64",
         "type": "integer"
        }
       ],
       "ref": "2d06a3c9-bdf5-4fa3-bad1-30ab6035a498",
       "rows": [
        [
         "0",
         "1",
         "A01",
         "Female",
         "0",
         "24",
         "175",
         "55",
         "655",
         "761",
         "718",
         "20",
         "9",
         "0.0",
         "2.75",
         "75",
         "78",
         "75",
         "76",
         "73",
         "11.0",
         "83.6",
         "0.722",
         "79.0",
         "0.077",
         "1.11",
         "707.7",
         "334",
         "0",
         "754",
         "631",
         "22",
         "-31",
         "239.1",
         "0.7",
         "8.5",
         "369",
         "0.397",
         "1",
         "51",
         "98",
         "221",
         "0",
         "34.1",
         "65.9",
         "1.93",
         "13.7",
         "26.4",
         "59.9",
         "0",
         "55",
         "13",
         "4.13",
         "578",
         "2.6",
         "4.0",
         "0.2",
         "3.0",
         "12.6",
         "0.9",
         "23.7",
         "238.5",
         "6.0",
         "0",
         "0",
         "-",
         "0.106",
         "517.6",
         "109.5",
         "747.1",
         "13.1",
         "0.721",
         "-",
         "-",
         "-",
         "0.0",
         "0.0",
         "0.0",
         "100",
         "106",
         "-",
         "8"
        ],
        [
         "1",
         "2",
         "A01",
         "Female",
         "1",
         "24",
         "175",
         "55",
         "656",
         "927",
         "797",
         "48",
         "24",
         "3.7",
         "6.06",
         "223",
         "257",
         "195",
         "236",
         "205",
         "27.6",
         "75.3",
         "0.786",
         "39.7",
         "0.261",
         "1.4",
         "96.73",
         "300",
         "0",
         "896",
         "672",
         "70",
         "-67",
         "238.3",
         "0.52",
         "4.0",
         "2305",
         "0.397",
         "6",
         "323",
         "425",
         "1557",
         "0",
         "43.2",
         "56.8",
         "1.31",
         "14.0",
         "18.4",
         "67.6",
         "0",
         "138",
         "35",
         "3.94",
         "3819",
         "7.6",
         "5.9",
         "1.3",
         "13.2",
         "21.6",
         "3.9",
         "136.4",
         "237.5",
         "42.1",
         "0",
         "0",
         "-",
         "0.27",
         "93.3",
         "50.5",
         "146.7",
         "4.7",
         "0.795",
         "-",
         "-",
         "-",
         "0.8",
         "0.69",
         "0.73",
         "40",
         "270",
         "-",
         "7"
        ],
        [
         "2",
         "3",
         "R002",
         "Female",
         "0",
         "18",
         "165",
         "54",
         "364",
         "1020",
         "800",
         "57",
         "54",
         "28.1",
         "7.12",
         "546",
         "564",
         "534",
         "550",
         "536",
         "20.7",
         "75.0",
         "0.784",
         "45.8",
         "0.566",
         "2.55",
         "51.68",
         "299",
         "0",
         "872",
         "487",
         "406",
         "-194",
         "238.6",
         "0.12",
         "1.3",
         "2177",
         "0.397",
         "5",
         "1255",
         "522",
         "400",
         "0",
         "70.6",
         "29.4",
         "0.42",
         "57.6",
         "24.0",
         "18.4",
         "0",
         "114",
         "69",
         "1.66",
         "6183",
         "57.7",
         "3.8",
         "5.0",
         "18.1",
         "8.2",
         "4.7",
         "23.3",
         "47.7",
         "10.8",
         "0",
         "0",
         "-",
         "0.656",
         "44.6",
         "58.5",
         "69.9",
         "1.95",
         "0.795",
         "-",
         "-",
         "-",
         "0.0",
         "0.0",
         "0.0",
         "100",
         "321",
         "-",
         "6"
        ],
        [
         "3",
         "4",
         "R002",
         "Female",
         "1",
         "18",
         "165",
         "54",
         "400",
         "1118",
         "884",
         "89",
         "93",
         "55.5",
         "10.02",
         "481",
         "718",
         "241",
         "703",
         "262",
         "44.4",
         "67.8",
         "0.867",
         "28.6",
         "0.718",
         "2.8",
         "22.95",
         "182",
         "0",
         "969",
         "594",
         "454",
         "-251",
         "238.0",
         "0.32",
         "1.5",
         "60585",
         "0.397",
         "153",
         "14462",
         "31404",
         "14718",
         "0",
         "31.5",
         "68.5",
         "2.17",
         "23.9",
         "51.8",
         "24.3",
         "0",
         "193",
         "145",
         "1.33",
         "22023",
         "256.1",
         "5.9",
         "57.8",
         "530.5",
         "19.8",
         "285.5",
         "639.4",
         "29.7",
         "397.8",
         "0",
         "0",
         "-",
         "0.718",
         "23.0",
         "33.0",
         "39.8",
         "1.61",
         "0.878",
         "-",
         "-",
         "-",
         "0.73",
         "0.51",
         "0.61",
         "68",
         "409",
         "-",
         "6"
        ],
        [
         "4",
         "5",
         "R007",
         "Male",
         "0",
         "19",
         "175",
         "83",
         "673",
         "950",
         "826",
         "41",
         "34",
         "12.8",
         "4.98",
         "185",
         "201",
         "172",
         "192",
         "176",
         "32.0",
         "72.6",
         "0.823",
         "44.5",
         "0.202",
         "1.28",
         "133.67",
         "290",
         "0",
         "918",
         "629",
         "79",
         "-137",
         "238.8",
         "0.46",
         "1.8",
         "1664",
         "0.397",
         "4",
         "661",
         "498",
         "505",
         "0",
         "57.0",
         "43.0",
         "0.75",
         "39.7",
         "29.9",
         "30.3",
         "0",
         "107",
         "51",
         "2.1",
         "4256",
         "14.9",
         "4.0",
         "2.6",
         "14.1",
         "23.8",
         "4.5",
         "32.1",
         "47.7",
         "13.6",
         "0",
         "0",
         "-",
         "0.277",
         "97.7",
         "54.1",
         "160.8",
         "4.39",
         "0.825",
         "-",
         "-",
         "-",
         "0.0",
         "0.0",
         "0.0",
         "100",
         "277",
         "-",
         "4"
        ]
       ],
       "shape": {
        "columns": 81,
        "rows": 5
       }
      },
      "text/html": [
       "<div>\n",
       "<style scoped>\n",
       "    .dataframe tbody tr th:only-of-type {\n",
       "        vertical-align: middle;\n",
       "    }\n",
       "\n",
       "    .dataframe tbody tr th {\n",
       "        vertical-align: top;\n",
       "    }\n",
       "\n",
       "    .dataframe thead th {\n",
       "        text-align: right;\n",
       "    }\n",
       "</style>\n",
       "<table border=\"1\" class=\"dataframe\">\n",
       "  <thead>\n",
       "    <tr style=\"text-align: right;\">\n",
       "      <th></th>\n",
       "      <th>No</th>\n",
       "      <th>Participant ID</th>\n",
       "      <th>Sex</th>\n",
       "      <th>Stage</th>\n",
       "      <th>Age</th>\n",
       "      <th>Height (sm)</th>\n",
       "      <th>Weight (kg)</th>\n",
       "      <th>R-R min (мs)</th>\n",
       "      <th>R-R max (мs)</th>\n",
       "      <th>RRNN (мs)</th>\n",
       "      <th>...</th>\n",
       "      <th>RR 30 (с)</th>\n",
       "      <th>RR 15 (с)</th>\n",
       "      <th>Коэффициент 30/15</th>\n",
       "      <th>КРС макс.</th>\n",
       "      <th>КРС мин.</th>\n",
       "      <th>КРС средн.</th>\n",
       "      <th>КРС больше порога (%)</th>\n",
       "      <th>TINN (мс)</th>\n",
       "      <th>ИН2/ИН1</th>\n",
       "      <th>ПАРС</th>\n",
       "    </tr>\n",
       "  </thead>\n",
       "  <tbody>\n",
       "    <tr>\n",
       "      <th>0</th>\n",
       "      <td>1</td>\n",
       "      <td>A01</td>\n",
       "      <td>Female</td>\n",
       "      <td>0</td>\n",
       "      <td>24</td>\n",
       "      <td>175</td>\n",
       "      <td>55</td>\n",
       "      <td>655</td>\n",
       "      <td>761</td>\n",
       "      <td>718</td>\n",
       "      <td>...</td>\n",
       "      <td>-</td>\n",
       "      <td>-</td>\n",
       "      <td>-</td>\n",
       "      <td>0.00</td>\n",
       "      <td>0.00</td>\n",
       "      <td>0.00</td>\n",
       "      <td>100</td>\n",
       "      <td>106</td>\n",
       "      <td>-</td>\n",
       "      <td>8</td>\n",
       "    </tr>\n",
       "    <tr>\n",
       "      <th>1</th>\n",
       "      <td>2</td>\n",
       "      <td>A01</td>\n",
       "      <td>Female</td>\n",
       "      <td>1</td>\n",
       "      <td>24</td>\n",
       "      <td>175</td>\n",
       "      <td>55</td>\n",
       "      <td>656</td>\n",
       "      <td>927</td>\n",
       "      <td>797</td>\n",
       "      <td>...</td>\n",
       "      <td>-</td>\n",
       "      <td>-</td>\n",
       "      <td>-</td>\n",
       "      <td>0.80</td>\n",
       "      <td>0.69</td>\n",
       "      <td>0.73</td>\n",
       "      <td>40</td>\n",
       "      <td>270</td>\n",
       "      <td>-</td>\n",
       "      <td>7</td>\n",
       "    </tr>\n",
       "    <tr>\n",
       "      <th>2</th>\n",
       "      <td>3</td>\n",
       "      <td>R002</td>\n",
       "      <td>Female</td>\n",
       "      <td>0</td>\n",
       "      <td>18</td>\n",
       "      <td>165</td>\n",
       "      <td>54</td>\n",
       "      <td>364</td>\n",
       "      <td>1020</td>\n",
       "      <td>800</td>\n",
       "      <td>...</td>\n",
       "      <td>-</td>\n",
       "      <td>-</td>\n",
       "      <td>-</td>\n",
       "      <td>0.00</td>\n",
       "      <td>0.00</td>\n",
       "      <td>0.00</td>\n",
       "      <td>100</td>\n",
       "      <td>321</td>\n",
       "      <td>-</td>\n",
       "      <td>6</td>\n",
       "    </tr>\n",
       "    <tr>\n",
       "      <th>3</th>\n",
       "      <td>4</td>\n",
       "      <td>R002</td>\n",
       "      <td>Female</td>\n",
       "      <td>1</td>\n",
       "      <td>18</td>\n",
       "      <td>165</td>\n",
       "      <td>54</td>\n",
       "      <td>400</td>\n",
       "      <td>1118</td>\n",
       "      <td>884</td>\n",
       "      <td>...</td>\n",
       "      <td>-</td>\n",
       "      <td>-</td>\n",
       "      <td>-</td>\n",
       "      <td>0.73</td>\n",
       "      <td>0.51</td>\n",
       "      <td>0.61</td>\n",
       "      <td>68</td>\n",
       "      <td>409</td>\n",
       "      <td>-</td>\n",
       "      <td>6</td>\n",
       "    </tr>\n",
       "    <tr>\n",
       "      <th>4</th>\n",
       "      <td>5</td>\n",
       "      <td>R007</td>\n",
       "      <td>Male</td>\n",
       "      <td>0</td>\n",
       "      <td>19</td>\n",
       "      <td>175</td>\n",
       "      <td>83</td>\n",
       "      <td>673</td>\n",
       "      <td>950</td>\n",
       "      <td>826</td>\n",
       "      <td>...</td>\n",
       "      <td>-</td>\n",
       "      <td>-</td>\n",
       "      <td>-</td>\n",
       "      <td>0.00</td>\n",
       "      <td>0.00</td>\n",
       "      <td>0.00</td>\n",
       "      <td>100</td>\n",
       "      <td>277</td>\n",
       "      <td>-</td>\n",
       "      <td>4</td>\n",
       "    </tr>\n",
       "  </tbody>\n",
       "</table>\n",
       "<p>5 rows × 81 columns</p>\n",
       "</div>"
      ],
      "text/plain": [
       "   No Participant ID     Sex  Stage  Age  Height (sm)  Weight (kg)  \\\n",
       "0   1            A01  Female      0   24          175           55   \n",
       "1   2            A01  Female      1   24          175           55   \n",
       "2   3           R002  Female      0   18          165           54   \n",
       "3   4           R002  Female      1   18          165           54   \n",
       "4   5           R007    Male      0   19          175           83   \n",
       "\n",
       "   R-R min (мs)  R-R max (мs)  RRNN (мs)  ...  RR 30 (с)  RR 15 (с)  \\\n",
       "0           655           761        718  ...          -          -   \n",
       "1           656           927        797  ...          -          -   \n",
       "2           364          1020        800  ...          -          -   \n",
       "3           400          1118        884  ...          -          -   \n",
       "4           673           950        826  ...          -          -   \n",
       "\n",
       "   Коэффициент 30/15  КРС макс.  КРС мин.  КРС средн.  КРС больше порога (%)  \\\n",
       "0                  -       0.00      0.00        0.00                    100   \n",
       "1                  -       0.80      0.69        0.73                     40   \n",
       "2                  -       0.00      0.00        0.00                    100   \n",
       "3                  -       0.73      0.51        0.61                     68   \n",
       "4                  -       0.00      0.00        0.00                    100   \n",
       "\n",
       "   TINN (мс)  ИН2/ИН1  ПАРС  \n",
       "0        106        -     8  \n",
       "1        270        -     7  \n",
       "2        321        -     6  \n",
       "3        409        -     6  \n",
       "4        277        -     4  \n",
       "\n",
       "[5 rows x 81 columns]"
      ]
     },
     "execution_count": 7,
     "metadata": {},
     "output_type": "execute_result"
    }
   ],
   "source": [
    "import pandas as pd\n",
    "from collections import Counter\n",
    "import numpy as np\n",
    "import matplotlib.pyplot as plt\n",
    "import os\n",
    "from matplotlib_venn import venn2\n",
    "\n",
    "\n",
    "# Define the URL of the xlsx file\n",
    "xlsx_path = \"./data/VR_HRV_dataset.xlsx\"\n",
    "\n",
    "# Load the Excel file into a DataFrame\n",
    "HRV_df = pd.read_excel(xlsx_path)\n",
    "\n",
    "# Display the first few rows of the DataFrame to verify\n",
    "HRV_df.head()\n",
    "\n"
   ]
  },
  {
   "cell_type": "markdown",
   "id": "e424cff3",
   "metadata": {},
   "source": [
    "### 🧠 Challenge #4:\n",
    "\n",
    "##### Modify the code you wrote for Challenges\n",
    "##### #2 and #3 and encapsulate it in:\n",
    "1. Functions\n",
    "2. Classes\n",
    "\n",
    "#### Practice how to call a Python script from a Jupyter Notebook code cell."
   ]
  },
  {
   "cell_type": "code",
   "execution_count": 8,
   "id": "c9b123fb",
   "metadata": {},
   "outputs": [],
   "source": [
    "class DataAnalysis:\n",
    "    def __init__(self, csv_path, delay=2):\n",
    "        if not os.path.exists(csv_path):\n",
    "            raise FileNotFoundError(f\"❌ File not found: {csv_path}\")\n",
    "\n",
    "        #Loads the robot performance data from a CSV file.\n",
    "        self.data = pd.read_csv(csv_path)\n",
    "        print(f\"✅ Loaded {len(self.data)} rows from {csv_path}\")\n",
    "\n",
    "    def mean(self, column):\n",
    "        return round(self.data[column].mean(), 2)\n",
    "\n",
    "    def median(self, column):\n",
    "        return round(self.data[column].median())\n",
    "\n",
    "    def mode(self, column):\n",
    "        return round(self.data[column].mode()[0])\n",
    "    \n",
    "    def variance(self, column):\n",
    "        return round(self.data[column].var(), 2)\n",
    "    \n",
    "    def std_dev(self, column):\n",
    "        return round(self.data[column].std(), 2)\n",
    "    \n",
    "    def quartiles(self, column):\n",
    "        return self.data[column].quantile([0.25, 0.5, 0.75, 1.0]).to_dict()\n",
    "    \n",
    "    def plot_histogram(self, column, bins=10):\n",
    "        plt.hist(self.data[column].dropna(), bins=bins, edgecolor='black')\n",
    "        plt.title(f'Histogram of {column}')\n",
    "        plt.xlabel(column)\n",
    "        plt.ylabel('Frequency')\n",
    "        plt.show()\n",
    "\n",
    "    def plot_boxplot(self, column):\n",
    "        plt.boxplot(self.data[column].dropna(), vert=False)\n",
    "        plt.title(f'Boxplot of {column}')\n",
    "        plt.xlabel(column)\n",
    "        plt.show()\n",
    "\n",
    "    def plot_scatter(self, x_column, y_column):\n",
    "        plt.scatter(self.data[x_column], self.data[y_column])\n",
    "        plt.title(f'Scatter Plot of {y_column} vs {x_column}')\n",
    "        plt.xlabel(x_column)\n",
    "        plt.ylabel(y_column)\n",
    "        plt.show()\n",
    "\n",
    "    def plot_venn(self, set1, set2, label1='Set 1', label2='Set 2'):\n",
    "        venn2([set(set1), set(set2)], (label1, label2))\n",
    "        plt.show()\n",
    "\n",
    "    def numerical_summary(self, column):\n",
    "        summary = {\n",
    "            'Mean': self.mean(column),\n",
    "            'Median': self.median(column),\n",
    "            'Mode': self.mode(column),\n",
    "            'Variance': self.variance(column),\n",
    "            'Standard Deviation': self.std_dev(column),\n",
    "            'Quartiles': self.quartiles(column)\n",
    "        }\n",
    "        return summary"
   ]
  },
  {
   "cell_type": "markdown",
   "id": "f7987b45",
   "metadata": {},
   "source": [
    "### 🧠 Challenge #5:\n",
    "\n",
    "1. Get in teams of 2-3\n",
    "2. Find a use case and sample or population data from the entertainment industry in your home country.\n",
    "3. Using the data and a Jupyter Notebook, calculate the mean, median, and mode.\n",
    "4. Add a markdown cell and document the use case on it.\n",
    "##### → 50-word summary\n",
    "##### → The data (sample or population)\n",
    "##### → The mean\n",
    "##### → The median\n",
    "##### → The mode\n",
    "##### → What does each of them say about the use case?\n",
    "\n",
    "\n",
    "#### 💻 Write the summary in the cell below:\n",
    "\n",
    "We chose the titanics dataset which contains information about the passengers on the Titanic. This is a sample dataset of 887 rcords. We are going to calclulate central tendencies on Age and Face columns.\n",
    "\n",
    "#### Central Tendencies: \n",
    "##### Mean: The mean is the measure of Central Tendency. Also known as \"average\"\n",
    "##### Median: The median is the middle value in a numerical data set that has been ordered from smallest to largest. If the number of records in the data sample is even, the median is the average of the two middle numbers.\n",
    "##### Mode: The most common item appeard in the dataset\n"
   ]
  },
  {
   "cell_type": "code",
   "execution_count": 9,
   "id": "aae7b905",
   "metadata": {},
   "outputs": [
    {
     "name": "stdout",
     "output_type": "stream",
     "text": [
      "✅ Loaded 887 rows from data/titanic_data.csv\n",
      "Mean Age: 29.47\n",
      "Median Age: 28\n",
      "Mode Age: 22\n",
      "\n",
      "Mean Fare: 32.31\n",
      "Median Fare: 28\n",
      "Mode Fare: 8\n"
     ]
    }
   ],
   "source": [
    "   \n",
    "# Define the path of the CSV file\n",
    "csv_path = \"data/titanic_data.csv\"\n",
    "\n",
    "DA = DataAnalysis(csv_path)\n",
    "\n",
    "# Display the first few rows of the DataFrame\n",
    "DA.data.head()  \n",
    "\n",
    "print(f\"Mean Age: {DA.mean('Age')}\")\n",
    "print(f\"Median Age: {DA.median('Age')}\")  \n",
    "print(f\"Mode Age: {DA.mode('Age')}\")\n",
    "\n",
    "print()\n",
    "\n",
    "print(f\"Mean Fare: {DA.mean('Fare')}\")\n",
    "print(f\"Median Fare: {DA.median('Age')}\")\n",
    "print(f\"Mode Fare: {DA.mode('Fare')}\")\n"
   ]
  },
  {
   "cell_type": "markdown",
   "id": "55216376",
   "metadata": {},
   "source": [
    "### 🧠 Challenge #6:\n",
    "\n",
    "1. Get in teams of 2-3\n",
    "2. Re-use the case from challenge 1 and add it to the Jupyter Notebook\n",
    "3. Using the data, calculate the variance, standard deviation, and plot the Quartiles.\n",
    "4. Stand up and update the use case on the whiteboard.\n",
    "##### → 20-word summary (keep or update)\n",
    "##### → The data (keep or update)\n",
    "##### → The variance\n",
    "##### → The standard deviation\n",
    "##### → The four Quartiles\n",
    "##### → What does each of them say about the use case?"
   ]
  },
  {
   "cell_type": "code",
   "execution_count": 10,
   "id": "a25efb31",
   "metadata": {},
   "outputs": [
    {
     "name": "stdout",
     "output_type": "stream",
     "text": [
      "Age variance: 199.43\n",
      "Age standard deviation: 14.12\n",
      "Age Q1: 20.25\n",
      "Age Q2: 28.0\n",
      "Age Q3: 38.0\n",
      "Age Q4: 80.0\n",
      "\n",
      "Fare variance: 2478.25\n",
      "Fare standard deviation: 49.78\n",
      "Fare Q1: 7.925\n",
      "Fare Q2: 14.4542\n",
      "Fare Q3: 31.1375\n",
      "Fare Q4: 512.3292\n"
     ]
    },
    {
     "data": {
      "application/vnd.microsoft.datawrangler.viewer.v0+json": {
       "columns": [
        {
         "name": "index",
         "rawType": "int64",
         "type": "integer"
        },
        {
         "name": "Survived",
         "rawType": "int64",
         "type": "integer"
        },
        {
         "name": "Pclass",
         "rawType": "int64",
         "type": "integer"
        },
        {
         "name": "Name",
         "rawType": "object",
         "type": "string"
        },
        {
         "name": "Sex",
         "rawType": "object",
         "type": "string"
        },
        {
         "name": "Age",
         "rawType": "float64",
         "type": "float"
        },
        {
         "name": "Siblings/Spouses Aboard",
         "rawType": "int64",
         "type": "integer"
        },
        {
         "name": "Parents/Children Aboard",
         "rawType": "int64",
         "type": "integer"
        },
        {
         "name": "Fare",
         "rawType": "float64",
         "type": "float"
        }
       ],
       "ref": "c0cbe089-6555-47ed-9e7f-9fc951c195c1",
       "rows": [
        [
         "0",
         "0",
         "3",
         "Mr. Owen Harris Braund",
         "male",
         "22.0",
         "1",
         "0",
         "7.25"
        ],
        [
         "1",
         "1",
         "1",
         "Mrs. John Bradley (Florence Briggs Thayer) Cumings",
         "female",
         "38.0",
         "1",
         "0",
         "71.2833"
        ],
        [
         "2",
         "1",
         "3",
         "Miss. Laina Heikkinen",
         "female",
         "26.0",
         "0",
         "0",
         "7.925"
        ],
        [
         "3",
         "1",
         "1",
         "Mrs. Jacques Heath (Lily May Peel) Futrelle",
         "female",
         "35.0",
         "1",
         "0",
         "53.1"
        ],
        [
         "4",
         "0",
         "3",
         "Mr. William Henry Allen",
         "male",
         "35.0",
         "0",
         "0",
         "8.05"
        ]
       ],
       "shape": {
        "columns": 8,
        "rows": 5
       }
      },
      "text/html": [
       "<div>\n",
       "<style scoped>\n",
       "    .dataframe tbody tr th:only-of-type {\n",
       "        vertical-align: middle;\n",
       "    }\n",
       "\n",
       "    .dataframe tbody tr th {\n",
       "        vertical-align: top;\n",
       "    }\n",
       "\n",
       "    .dataframe thead th {\n",
       "        text-align: right;\n",
       "    }\n",
       "</style>\n",
       "<table border=\"1\" class=\"dataframe\">\n",
       "  <thead>\n",
       "    <tr style=\"text-align: right;\">\n",
       "      <th></th>\n",
       "      <th>Survived</th>\n",
       "      <th>Pclass</th>\n",
       "      <th>Name</th>\n",
       "      <th>Sex</th>\n",
       "      <th>Age</th>\n",
       "      <th>Siblings/Spouses Aboard</th>\n",
       "      <th>Parents/Children Aboard</th>\n",
       "      <th>Fare</th>\n",
       "    </tr>\n",
       "  </thead>\n",
       "  <tbody>\n",
       "    <tr>\n",
       "      <th>0</th>\n",
       "      <td>0</td>\n",
       "      <td>3</td>\n",
       "      <td>Mr. Owen Harris Braund</td>\n",
       "      <td>male</td>\n",
       "      <td>22.0</td>\n",
       "      <td>1</td>\n",
       "      <td>0</td>\n",
       "      <td>7.2500</td>\n",
       "    </tr>\n",
       "    <tr>\n",
       "      <th>1</th>\n",
       "      <td>1</td>\n",
       "      <td>1</td>\n",
       "      <td>Mrs. John Bradley (Florence Briggs Thayer) Cum...</td>\n",
       "      <td>female</td>\n",
       "      <td>38.0</td>\n",
       "      <td>1</td>\n",
       "      <td>0</td>\n",
       "      <td>71.2833</td>\n",
       "    </tr>\n",
       "    <tr>\n",
       "      <th>2</th>\n",
       "      <td>1</td>\n",
       "      <td>3</td>\n",
       "      <td>Miss. Laina Heikkinen</td>\n",
       "      <td>female</td>\n",
       "      <td>26.0</td>\n",
       "      <td>0</td>\n",
       "      <td>0</td>\n",
       "      <td>7.9250</td>\n",
       "    </tr>\n",
       "    <tr>\n",
       "      <th>3</th>\n",
       "      <td>1</td>\n",
       "      <td>1</td>\n",
       "      <td>Mrs. Jacques Heath (Lily May Peel) Futrelle</td>\n",
       "      <td>female</td>\n",
       "      <td>35.0</td>\n",
       "      <td>1</td>\n",
       "      <td>0</td>\n",
       "      <td>53.1000</td>\n",
       "    </tr>\n",
       "    <tr>\n",
       "      <th>4</th>\n",
       "      <td>0</td>\n",
       "      <td>3</td>\n",
       "      <td>Mr. William Henry Allen</td>\n",
       "      <td>male</td>\n",
       "      <td>35.0</td>\n",
       "      <td>0</td>\n",
       "      <td>0</td>\n",
       "      <td>8.0500</td>\n",
       "    </tr>\n",
       "  </tbody>\n",
       "</table>\n",
       "</div>"
      ],
      "text/plain": [
       "   Survived  Pclass                                               Name  \\\n",
       "0         0       3                             Mr. Owen Harris Braund   \n",
       "1         1       1  Mrs. John Bradley (Florence Briggs Thayer) Cum...   \n",
       "2         1       3                              Miss. Laina Heikkinen   \n",
       "3         1       1        Mrs. Jacques Heath (Lily May Peel) Futrelle   \n",
       "4         0       3                            Mr. William Henry Allen   \n",
       "\n",
       "      Sex   Age  Siblings/Spouses Aboard  Parents/Children Aboard     Fare  \n",
       "0    male  22.0                        1                        0   7.2500  \n",
       "1  female  38.0                        1                        0  71.2833  \n",
       "2  female  26.0                        0                        0   7.9250  \n",
       "3  female  35.0                        1                        0  53.1000  \n",
       "4    male  35.0                        0                        0   8.0500  "
      ]
     },
     "execution_count": 10,
     "metadata": {},
     "output_type": "execute_result"
    }
   ],
   "source": [
    "\n",
    "print(f\"Age variance: {DA.variance('Age')}\")\n",
    "\n",
    "print(f\"Age standard deviation: {DA.std_dev('Age')}\")\n",
    "\n",
    "# The four quartiles - Age\n",
    "quartiles = DA.quartiles('Age')\n",
    "# print(f\"Age Quartiles: {quartiles}\")\n",
    "\n",
    "print(f\"Age Q1: {quartiles[0.25]}\"\n",
    "      f\"\\nAge Q2: {quartiles[0.5]}\"\n",
    "      f\"\\nAge Q3: {quartiles[0.75]}\"\n",
    "      f\"\\nAge Q4: {quartiles[1.0]}\")\n",
    "\n",
    "print()\n",
    "\n",
    "print(f\"Fare variance: {DA.variance('Fare')}\")\n",
    "print(f\"Fare standard deviation: {DA.std_dev('Fare')}\")\n",
    "\n",
    "# The four quartiles - Fare\n",
    "fare_quartiles = DA.quartiles('Fare')\n",
    "\n",
    "print(f\"Fare Q1: {fare_quartiles[0.25]}\"\n",
    "      f\"\\nFare Q2: {fare_quartiles[0.5]}\"\n",
    "      f\"\\nFare Q3: {fare_quartiles[0.75]}\"\n",
    "      f\"\\nFare Q4: {fare_quartiles[1.0]}\")\n",
    "\n",
    "DA.data.head() \n",
    "\n"
   ]
  },
  {
   "cell_type": "markdown",
   "id": "f595f14b",
   "metadata": {},
   "source": [
    "### 🧠 Challenge #6:\n",
    "\n",
    "1. Get together with your team\n",
    "2. Re-use the case from challenges 1-t and add to the Jupyter Notebook\n",
    "3. Using the data, calculate the variance, standard deviation, and plot the Quartiles.\n",
    "4. Produce the following from the data:\n",
    "#### Scatter plot\n",
    "#### Histogram\n",
    "#### Box-whisker plot\n",
    "#### Venn Diagram\n",
    "#### Numerical Summary"
   ]
  },
  {
   "cell_type": "code",
   "execution_count": 11,
   "id": "eb1013e0",
   "metadata": {},
   "outputs": [
    {
     "data": {
      "image/png": "[encoded data removed]",
      "text/plain": [
       "<Figure size 640x480 with 1 Axes>"
      ]
     },
     "metadata": {},
     "output_type": "display_data"
    },
    {
     "data": {
      "image/png": "[encoded data removed]",
      "text/plain": [
       "<Figure size 640x480 with 1 Axes>"
      ]
     },
     "metadata": {},
     "output_type": "display_data"
    },
    {
     "data": {
      "image/png": "[encoded data removed]",
      "text/plain": [
       "<Figure size 640x480 with 1 Axes>"
      ]
     },
     "metadata": {},
     "output_type": "display_data"
    },
    {
     "data": {
      "image/png": "[encoded data removed]",
      "text/plain": [
       "<Figure size 640x480 with 1 Axes>"
      ]
     },
     "metadata": {},
     "output_type": "display_data"
    },
    {
     "data": {
      "image/png": "[encoded data removed]",
      "text/plain": [
       "<Figure size 640x480 with 1 Axes>"
      ]
     },
     "metadata": {},
     "output_type": "display_data"
    },
    {
     "data": {
      "image/png": "[encoded data removed]",
      "text/plain": [
       "<Figure size 640x480 with 1 Axes>"
      ]
     },
     "metadata": {},
     "output_type": "display_data"
    },
    {
     "data": {
      "image/png": "[encoded data removed]",
      "text/plain": [
       "<Figure size 640x480 with 1 Axes>"
      ]
     },
     "metadata": {},
     "output_type": "display_data"
    },
    {
     "data": {
      "image/png": "[encoded data removed]",
      "text/plain": [
       "<Figure size 800x600 with 2 Axes>"
      ]
     },
     "metadata": {},
     "output_type": "display_data"
    },
    {
     "name": "stdout",
     "output_type": "stream",
     "text": [
      "{'Mean': np.float64(29.47), 'Median': 28, 'Mode': 22, 'Variance': np.float64(199.43), 'Standard Deviation': np.float64(14.12), 'Quartiles': {0.25: 20.25, 0.5: 28.0, 0.75: 38.0, 1.0: 80.0}}\n",
      "{'Mean': np.float64(32.31), 'Median': 14, 'Mode': 8, 'Variance': np.float64(2478.25), 'Standard Deviation': np.float64(49.78), 'Quartiles': {0.25: 7.925, 0.5: 14.4542, 0.75: 31.1375, 1.0: 512.3292}}\n"
     ]
    }
   ],
   "source": [
    "\n",
    "DA.plot_scatter('Age', 'Fare')\n",
    "DA.plot_scatter('Age', 'Survived')\n",
    "DA.plot_scatter('Age', 'Survived')\n",
    "\n",
    "DA.plot_histogram('Age', bins=20)\n",
    "DA.plot_histogram('Fare', bins=20) \n",
    "\n",
    "DA.plot_boxplot('Age')\n",
    "DA.plot_boxplot('Fare')\n",
    "\n",
    "plt.figure(figsize=(8,6))\n",
    "plt.scatter(DA.data['Age'], DA.data['Fare'], c=DA.data['Survived'], cmap=\"coolwarm\", alpha=0.6)\n",
    "plt.xlabel(\"Age\")\n",
    "plt.ylabel(\"Fare\")\n",
    "plt.title(\"Titanic: Age vs Fare (color = Survived)\")\n",
    "plt.colorbar(label=\"Survived (0 = No, 1 = Yes)\")\n",
    "\n",
    "plt.show()\n",
    "\n",
    "print(DA.numerical_summary('Age'))\n",
    "print(DA.numerical_summary('Fare'))"
   ]
  }
 ],
 "metadata": {
  "kernelspec": {
   "display_name": "Python 3",
   "language": "python",
   "name": "python3"
  },
  "language_info": {
   "codemirror_mode": {
    "name": "ipython",
    "version": 3
   },
   "file_extension": ".py",
   "mimetype": "text/x-python",
   "name": "python",
   "nbconvert_exporter": "python",
   "pygments_lexer": "ipython3",
   "version": "3.13.7"
  }
 },
 "nbformat": 4,
 "nbformat_minor": 5
}
